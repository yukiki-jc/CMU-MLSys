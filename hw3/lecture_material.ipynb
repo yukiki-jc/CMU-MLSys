{
  "cells": [
    {
      "cell_type": "markdown",
      "metadata": {
        "colab_type": "text",
        "id": "view-in-github"
      },
      "source": [
        "<a href=\"https://colab.research.google.com/github/dlsyscourse/lecture14/blob/main/14_hardware_acceleration_architecture_overview.ipynb\" target=\"_parent\"><img src=\"https://colab.research.google.com/assets/colab-badge.svg\" alt=\"Open In Colab\"/></a>"
      ]
    },
    {
      "cell_type": "markdown",
      "metadata": {
        "id": "Mpn1ti5Urdsv"
      },
      "source": [
        "# Lecture 14: Hardware Acceleration Implementation\n",
        "\n",
        "In this lecture, we will to walk through backend scafoldings to get us hardware accelerations for needle.\n",
        "\n",
        "\n"
      ]
    },
    {
      "cell_type": "markdown",
      "metadata": {
        "id": "MkXPIjVd90z7"
      },
      "source": [
        "## Select a GPU runtime type\n",
        "In this lecture, we are going to make use of c++ and CUDA to build accelerated linear algebra libraries. In order to do so, please make sure you select a runtime type with GPU and rerun the cells if needed:\n",
        "- Click on the \"Runtime\" tab\n",
        "- Click \"Change runtime type\"\n",
        "- Select GPU\n",
        "\n",
        "After you started the right runtime, you can run the following command to check if there is a GPU available."
      ]
    },
    {
      "cell_type": "code",
      "execution_count": 1,
      "metadata": {
        "colab": {
          "base_uri": "https://localhost:8080/"
        },
        "id": "5VM6IcuZ-kv6",
        "outputId": "f3170387-6181-4c98-8fe9-37fc50a51b62"
      },
      "outputs": [
        {
          "name": "stdout",
          "output_type": "stream",
          "text": [
            "Wed Apr 17 02:36:29 2024       \n",
            "+---------------------------------------------------------------------------------------+\n",
            "| NVIDIA-SMI 535.72                 Driver Version: 536.45       CUDA Version: 12.2     |\n",
            "|-----------------------------------------+----------------------+----------------------+\n",
            "| GPU  Name                 Persistence-M | Bus-Id        Disp.A | Volatile Uncorr. ECC |\n",
            "| Fan  Temp   Perf          Pwr:Usage/Cap |         Memory-Usage | GPU-Util  Compute M. |\n",
            "|                                         |                      |               MIG M. |\n",
            "|=========================================+======================+======================|\n",
            "|   0  NVIDIA GeForce RTX 4060 ...    On  | 00000000:01:00.0 Off |                  N/A |\n",
            "| N/A   39C    P4              14W /  55W |      0MiB /  8188MiB |      0%      Default |\n",
            "|                                         |                      |                  N/A |\n",
            "+-----------------------------------------+----------------------+----------------------+\n",
            "                                                                                         \n",
            "+---------------------------------------------------------------------------------------+\n",
            "| Processes:                                                                            |\n",
            "|  GPU   GI   CI        PID   Type   Process name                            GPU Memory |\n",
            "|        ID   ID                                                             Usage      |\n",
            "|=======================================================================================|\n",
            "|  No running processes found                                                           |\n",
            "+---------------------------------------------------------------------------------------+\n"
          ]
        }
      ],
      "source": [
        "!nvidia-smi"
      ]
    },
    {
      "cell_type": "markdown",
      "metadata": {
        "id": "qXysoqn-vZuF"
      },
      "source": [
        "## Prepare the codebase\n",
        "\n",
        "To get started, we can clone the related repo from the github."
      ]
    },
    {
      "cell_type": "code",
      "execution_count": 2,
      "metadata": {
        "colab": {
          "base_uri": "https://localhost:8080/"
        },
        "id": "Xe3vClsD9jlq",
        "outputId": "fb1367b1-13b1-42ff-ad08-5d677283cb4c"
      },
      "outputs": [
        {
          "name": "stdout",
          "output_type": "stream",
          "text": [
            "Requirement already satisfied: pybind11 in /opt/conda/lib/python3.10/site-packages (2.12.0)\n",
            "\u001b[33mWARNING: Running pip as the 'root' user can result in broken permissions and conflicting behaviour with the system package manager. It is recommended to use a virtual environment instead: https://pip.pypa.io/warnings/venv\u001b[0m\u001b[33m\n",
            "\u001b[0m"
          ]
        }
      ],
      "source": [
        "!python3 -m pip install pybind11"
      ]
    },
    {
      "cell_type": "markdown",
      "metadata": {
        "id": "O_RrW38i_JNp"
      },
      "source": [
        "### Build the needle cuda library\n",
        "\n",
        "We leverage pybind to build a c++/cuda library for acceleration. You can type make to build the corresponding library."
      ]
    },
    {
      "cell_type": "markdown",
      "metadata": {
        "id": "DFxG3p3S1sBq"
      },
      "source": [
        "We can then run the following command to make the path to the package available in colab's environment as well as the PYTHONPATH."
      ]
    },
    {
      "cell_type": "code",
      "execution_count": 3,
      "metadata": {
        "colab": {
          "base_uri": "https://localhost:8080/"
        },
        "id": "bix8OXLuCOKt",
        "outputId": "583e1b27-02e7-42de-fa80-32f3c25d9323"
      },
      "outputs": [
        {
          "name": "stdout",
          "output_type": "stream",
          "text": [
            "env: PYTHONPATH=./python\n",
            "env: NEEDLE_BACKEND=nd\n"
          ]
        }
      ],
      "source": [
        "%set_env PYTHONPATH ./python\n",
        "%set_env NEEDLE_BACKEND nd\n",
        "import sys\n",
        "sys.path.append('./python')"
      ]
    },
    {
      "cell_type": "markdown",
      "metadata": {
        "id": "BBIuE2jc1DaU"
      },
      "source": [
        "## Codebase walkthrough\n",
        "\n",
        "\n",
        "Now click the files panel on the left side. You should be able to see these files\n",
        "\n",
        "Python:\n",
        "- needle/backend_ndarray/ndarray.py\n",
        "- needle/backend_ndarray/ndarray_backend_numpy.py\n",
        "\n",
        "C++/CUDA\n",
        "- src/ndarray_backend_cpu.cc\n",
        "- src/ndarray_backend_cuda.cu\n",
        "\n",
        "The main goal of this lecture is to create an accelerated ndarray library.\n",
        "As a result, we do not need to deal with needle.Tensor for now and will focus on backend_ndarray's implementation.\n",
        "\n",
        "After we build up this array library, we can then use it to power backend array computations in needle.\n"
      ]
    },
    {
      "cell_type": "markdown",
      "metadata": {
        "id": "x1Z8wSsI6PrU"
      },
      "source": [
        "## Creating a CUDA NDArray\n",
        "\n",
        "\n",
        "\n",
        "\n"
      ]
    },
    {
      "cell_type": "code",
      "execution_count": 4,
      "metadata": {
        "colab": {
          "base_uri": "https://localhost:8080/"
        },
        "id": "N2bm_WB9uF4V",
        "outputId": "f46bf72c-c8b1-443e-ba84-5bcd4b8dc8ee"
      },
      "outputs": [
        {
          "name": "stdout",
          "output_type": "stream",
          "text": [
            "Using needle backend\n"
          ]
        }
      ],
      "source": [
        "from needle import backend_ndarray as nd"
      ]
    },
    {
      "cell_type": "code",
      "execution_count": 5,
      "metadata": {
        "id": "2On4NzNggDfN"
      },
      "outputs": [
        {
          "name": "stdout",
          "output_type": "stream",
          "text": [
            "device:  cpu()\n",
            "array device:  cpu()\n"
          ]
        }
      ],
      "source": [
        "x = nd.NDArray([1, 2, 3], device=nd.cpu())"
      ]
    },
    {
      "cell_type": "code",
      "execution_count": null,
      "metadata": {},
      "outputs": [],
      "source": []
    },
    {
      "cell_type": "code",
      "execution_count": 6,
      "metadata": {
        "id": "0W4C5Zbmao7_"
      },
      "outputs": [
        {
          "name": "stdout",
          "output_type": "stream",
          "text": [
            "cuda()\n",
            "device:  cuda()\n",
            "array device:  cuda()\n"
          ]
        },
        {
          "ename": "AttributeError",
          "evalue": "'NoneType' object has no attribute 'Array'",
          "output_type": "error",
          "traceback": [
            "\u001b[0;31m---------------------------------------------------------------------------\u001b[0m",
            "\u001b[0;31mAttributeError\u001b[0m                            Traceback (most recent call last)",
            "Cell \u001b[0;32mIn[6], line 2\u001b[0m\n\u001b[1;32m      1\u001b[0m \u001b[38;5;28mprint\u001b[39m(nd\u001b[38;5;241m.\u001b[39mcuda())\n\u001b[0;32m----> 2\u001b[0m x \u001b[38;5;241m=\u001b[39m \u001b[43mnd\u001b[49m\u001b[38;5;241;43m.\u001b[39;49m\u001b[43mNDArray\u001b[49m\u001b[43m(\u001b[49m\u001b[43m[\u001b[49m\u001b[38;5;241;43m1\u001b[39;49m\u001b[43m,\u001b[49m\u001b[43m \u001b[49m\u001b[38;5;241;43m2\u001b[39;49m\u001b[43m,\u001b[49m\u001b[43m \u001b[49m\u001b[38;5;241;43m3\u001b[39;49m\u001b[43m]\u001b[49m\u001b[43m,\u001b[49m\u001b[43m \u001b[49m\u001b[43mdevice\u001b[49m\u001b[38;5;241;43m=\u001b[39;49m\u001b[43mnd\u001b[49m\u001b[38;5;241;43m.\u001b[39;49m\u001b[43mcuda\u001b[49m\u001b[43m(\u001b[49m\u001b[43m)\u001b[49m\u001b[43m)\u001b[49m\n",
            "File \u001b[0;32m~/ml/CMUMLSysCourse/CMU-MLSys/hw3/./python/needle/backend_ndarray/ndarray.py:117\u001b[0m, in \u001b[0;36mNDArray.__init__\u001b[0;34m(self, other, device)\u001b[0m\n\u001b[1;32m    113\u001b[0m     \u001b[38;5;28mself\u001b[39m\u001b[38;5;241m.\u001b[39m_init(array)\n\u001b[1;32m    114\u001b[0m \u001b[38;5;28;01melse\u001b[39;00m:\n\u001b[1;32m    115\u001b[0m     \u001b[38;5;66;03m# see if we can create a numpy array from input\u001b[39;00m\n\u001b[0;32m--> 117\u001b[0m     array \u001b[38;5;241m=\u001b[39m \u001b[43mNDArray\u001b[49m\u001b[43m(\u001b[49m\u001b[43mnp\u001b[49m\u001b[38;5;241;43m.\u001b[39;49m\u001b[43marray\u001b[49m\u001b[43m(\u001b[49m\u001b[43mother\u001b[49m\u001b[43m)\u001b[49m\u001b[43m,\u001b[49m\u001b[43m \u001b[49m\u001b[43mdevice\u001b[49m\u001b[38;5;241;43m=\u001b[39;49m\u001b[43mdevice\u001b[49m\u001b[43m)\u001b[49m\n\u001b[1;32m    118\u001b[0m     \u001b[38;5;28mself\u001b[39m\u001b[38;5;241m.\u001b[39m_init(array)\n",
            "File \u001b[0;32m~/ml/CMUMLSysCourse/CMU-MLSys/hw3/./python/needle/backend_ndarray/ndarray.py:111\u001b[0m, in \u001b[0;36mNDArray.__init__\u001b[0;34m(self, other, device)\u001b[0m\n\u001b[1;32m    109\u001b[0m device \u001b[38;5;241m=\u001b[39m device \u001b[38;5;28;01mif\u001b[39;00m device \u001b[38;5;129;01mis\u001b[39;00m \u001b[38;5;129;01mnot\u001b[39;00m \u001b[38;5;28;01mNone\u001b[39;00m \u001b[38;5;28;01melse\u001b[39;00m default_device()\n\u001b[1;32m    110\u001b[0m \u001b[38;5;28mprint\u001b[39m(\u001b[38;5;124m\"\u001b[39m\u001b[38;5;124mdevice: \u001b[39m\u001b[38;5;124m\"\u001b[39m, device)\n\u001b[0;32m--> 111\u001b[0m array \u001b[38;5;241m=\u001b[39m \u001b[38;5;28;43mself\u001b[39;49m\u001b[38;5;241;43m.\u001b[39;49m\u001b[43mmake\u001b[49m\u001b[43m(\u001b[49m\u001b[43mother\u001b[49m\u001b[38;5;241;43m.\u001b[39;49m\u001b[43mshape\u001b[49m\u001b[43m,\u001b[49m\u001b[43m \u001b[49m\u001b[43mdevice\u001b[49m\u001b[38;5;241;43m=\u001b[39;49m\u001b[43mdevice\u001b[49m\u001b[43m)\u001b[49m\n\u001b[1;32m    112\u001b[0m array\u001b[38;5;241m.\u001b[39mdevice\u001b[38;5;241m.\u001b[39mfrom_numpy(np\u001b[38;5;241m.\u001b[39mascontiguousarray(other), array\u001b[38;5;241m.\u001b[39m_handle)\n\u001b[1;32m    113\u001b[0m \u001b[38;5;28mself\u001b[39m\u001b[38;5;241m.\u001b[39m_init(array)\n",
            "File \u001b[0;32m~/ml/CMUMLSysCourse/CMU-MLSys/hw3/./python/needle/backend_ndarray/ndarray.py:149\u001b[0m, in \u001b[0;36mNDArray.make\u001b[0;34m(shape, strides, device, handle, offset)\u001b[0m\n\u001b[1;32m    147\u001b[0m \u001b[38;5;28mprint\u001b[39m(\u001b[38;5;124m\"\u001b[39m\u001b[38;5;124marray device: \u001b[39m\u001b[38;5;124m\"\u001b[39m, array\u001b[38;5;241m.\u001b[39m_device)\n\u001b[1;32m    148\u001b[0m \u001b[38;5;28;01mif\u001b[39;00m handle \u001b[38;5;129;01mis\u001b[39;00m \u001b[38;5;28;01mNone\u001b[39;00m:\n\u001b[0;32m--> 149\u001b[0m     array\u001b[38;5;241m.\u001b[39m_handle \u001b[38;5;241m=\u001b[39m \u001b[43marray\u001b[49m\u001b[38;5;241;43m.\u001b[39;49m\u001b[43mdevice\u001b[49m\u001b[38;5;241;43m.\u001b[39;49m\u001b[43mArray\u001b[49m(prod(shape))\n\u001b[1;32m    150\u001b[0m \u001b[38;5;28;01melse\u001b[39;00m:\n\u001b[1;32m    151\u001b[0m     array\u001b[38;5;241m.\u001b[39m_handle \u001b[38;5;241m=\u001b[39m handle\n",
            "File \u001b[0;32m~/ml/CMUMLSysCourse/CMU-MLSys/hw3/./python/needle/backend_ndarray/ndarray.py:28\u001b[0m, in \u001b[0;36mBackendDevice.__getattr__\u001b[0;34m(self, name)\u001b[0m\n\u001b[1;32m     27\u001b[0m \u001b[38;5;28;01mdef\u001b[39;00m \u001b[38;5;21m__getattr__\u001b[39m(\u001b[38;5;28mself\u001b[39m, name):\n\u001b[0;32m---> 28\u001b[0m     \u001b[38;5;28;01mreturn\u001b[39;00m \u001b[38;5;28;43mgetattr\u001b[39;49m\u001b[43m(\u001b[49m\u001b[38;5;28;43mself\u001b[39;49m\u001b[38;5;241;43m.\u001b[39;49m\u001b[43mmod\u001b[49m\u001b[43m,\u001b[49m\u001b[43m \u001b[49m\u001b[43mname\u001b[49m\u001b[43m)\u001b[49m\n",
            "\u001b[0;31mAttributeError\u001b[0m: 'NoneType' object has no attribute 'Array'"
          ]
        }
      ],
      "source": [
        "print(nd.cuda())\n",
        "x = nd.NDArray([1, 2, 3], device=nd.cuda())"
      ]
    },
    {
      "cell_type": "code",
      "execution_count": null,
      "metadata": {
        "colab": {
          "base_uri": "https://localhost:8080/"
        },
        "id": "elL0Bq-mapF3",
        "outputId": "4be304fe-5a04-447c-c330-47cd52804a94"
      },
      "outputs": [],
      "source": [
        "x.device"
      ]
    },
    {
      "cell_type": "code",
      "execution_count": null,
      "metadata": {
        "id": "lwXRXHbnN2-s"
      },
      "outputs": [],
      "source": [
        "x = nd.NDArray([1,2,3], device=nd.cuda())"
      ]
    },
    {
      "cell_type": "code",
      "execution_count": null,
      "metadata": {
        "id": "hSjmK60DOFEi"
      },
      "outputs": [],
      "source": [
        "y = x + 1"
      ]
    },
    {
      "cell_type": "code",
      "execution_count": null,
      "metadata": {
        "colab": {
          "base_uri": "https://localhost:8080/"
        },
        "id": "_s59AZm7OFVV",
        "outputId": "4f365885-3fd1-4bb1-b6c1-96e45cb0b5a2"
      },
      "outputs": [],
      "source": [
        "y"
      ]
    },
    {
      "cell_type": "code",
      "execution_count": null,
      "metadata": {
        "id": "ZBlbinVMYNhA"
      },
      "outputs": [],
      "source": [
        "y = x + x"
      ]
    },
    {
      "cell_type": "code",
      "execution_count": null,
      "metadata": {
        "colab": {
          "base_uri": "https://localhost:8080/"
        },
        "id": "-4RytYKfY6JQ",
        "outputId": "4f49b23a-5b9f-4a78-9b10-678989562574"
      },
      "outputs": [],
      "source": [
        "y"
      ]
    },
    {
      "cell_type": "markdown",
      "metadata": {
        "id": "wZGnTUsKF1x1"
      },
      "source": [
        "We can create a CUDA tensor from the data by specifying a device keyword."
      ]
    },
    {
      "cell_type": "code",
      "execution_count": null,
      "metadata": {
        "id": "1h5iAYFfBRED"
      },
      "outputs": [],
      "source": [
        "x = nd.NDArray([1, 2, 3], device=nd.cuda())"
      ]
    },
    {
      "cell_type": "code",
      "execution_count": null,
      "metadata": {
        "id": "CulMPqJkhkpE"
      },
      "outputs": [],
      "source": [
        "y = x + 1"
      ]
    },
    {
      "cell_type": "code",
      "execution_count": null,
      "metadata": {
        "colab": {
          "base_uri": "https://localhost:8080/"
        },
        "id": "t4UuEs9KAkDR",
        "outputId": "bac99671-d9a1-4983-8dc9-331768e4ab6e"
      },
      "outputs": [],
      "source": [
        "x.numpy()"
      ]
    },
    {
      "cell_type": "code",
      "execution_count": null,
      "metadata": {
        "colab": {
          "base_uri": "https://localhost:8080/"
        },
        "id": "WBMvL6QEBtG7",
        "outputId": "1f852562-8b1b-4ec7-bf35-0a8a3f96ce96"
      },
      "outputs": [],
      "source": [
        "x.device"
      ]
    },
    {
      "cell_type": "code",
      "execution_count": null,
      "metadata": {
        "id": "qJSv7D8NGfAr"
      },
      "outputs": [],
      "source": [
        "y = x + 1"
      ]
    },
    {
      "cell_type": "code",
      "execution_count": null,
      "metadata": {
        "colab": {
          "base_uri": "https://localhost:8080/"
        },
        "id": "yZ7hmyBVGhGd",
        "outputId": "d35e51be-5dca-4221-b1e9-ed434f3660ae"
      },
      "outputs": [],
      "source": [
        "y.device"
      ]
    },
    {
      "cell_type": "code",
      "execution_count": null,
      "metadata": {
        "colab": {
          "base_uri": "https://localhost:8080/"
        },
        "id": "NQVtUgK-f7_y",
        "outputId": "34201640-3812-419b-f822-729fe08f3f87"
      },
      "outputs": [],
      "source": [
        "y.numpy()"
      ]
    },
    {
      "cell_type": "markdown",
      "metadata": {
        "id": "SPjNJfJsf_T9"
      },
      "source": [
        "### Key Data Structures\n",
        "\n",
        "Key data structures in backend_ndarray\n",
        "\n",
        "- NDArray: the container to hold device specific ndarray\n",
        "- BackendDevice: backend device\n",
        "    - mod holds the module implementation that implements all functions\n",
        "    - checkout ndarray_backend_numpy.py for a python-side reference.\n",
        "\n"
      ]
    },
    {
      "cell_type": "markdown",
      "metadata": {
        "id": "HxKF9dcFhTy3"
      },
      "source": [
        "## Trace GPU execution\n",
        "\n",
        "Now, let us take a look at what happens when we execute the following code\n"
      ]
    },
    {
      "cell_type": "code",
      "execution_count": null,
      "metadata": {
        "id": "PLLzZzuthhBH"
      },
      "outputs": [],
      "source": [
        "x = nd.NDArray([1, 2, 3], device=nd.cuda())\n",
        "y = x + 1"
      ]
    },
    {
      "cell_type": "code",
      "execution_count": null,
      "metadata": {
        "colab": {
          "base_uri": "https://localhost:8080/"
        },
        "id": "V9NV0JFESkIe",
        "outputId": "7a2d70c9-a9a8-4bed-d586-84f14b687dc6"
      },
      "outputs": [],
      "source": [
        "x.device.from_numpy"
      ]
    },
    {
      "cell_type": "code",
      "execution_count": null,
      "metadata": {
        "id": "H6vwR3yBRI9F"
      },
      "outputs": [],
      "source": [
        "x = nd.NDArray([1, 2, 3])"
      ]
    },
    {
      "cell_type": "code",
      "execution_count": null,
      "metadata": {
        "colab": {
          "base_uri": "https://localhost:8080/"
        },
        "id": "0PxoH_UzRMd3",
        "outputId": "bf714546-5f6d-4774-9067-6652e356f156"
      },
      "outputs": [],
      "source": [
        "x.device.from_numpy"
      ]
    },
    {
      "cell_type": "markdown",
      "metadata": {
        "id": "xU5PFJJ-iR7J"
      },
      "source": [
        "Have the following trace:\n",
        "\n",
        "backend_ndarray/ndarray.py\n",
        "- `NDArray.__add__`\n",
        "- `NDArray.ewise_or_scalar`\n",
        "- `ndarray_backend_cpu.cc:ScalarAdd`"
      ]
    },
    {
      "cell_type": "code",
      "execution_count": null,
      "metadata": {
        "colab": {
          "base_uri": "https://localhost:8080/"
        },
        "id": "TxAKyM6yjr_R",
        "outputId": "3a249eac-8bb5-4e3d-964c-cdf39bee0dbc"
      },
      "outputs": [],
      "source": [
        "y.numpy()"
      ]
    },
    {
      "cell_type": "markdown",
      "metadata": {
        "id": "F4vqb_a4j2O8"
      },
      "source": [
        "Have the following trace:\n",
        "\n",
        "- `NDArray.numpy`\n",
        "- `ndarray_backend_cpu.cc:to_numpy`"
      ]
    },
    {
      "cell_type": "markdown",
      "metadata": {
        "id": "tMiFJmJVlD6j"
      },
      "source": [
        "## Guidelines for Reading C++/CUDA related Files\n",
        "\n",
        "Read\n",
        "- src/ndarray_backend_cpu.cc\n",
        "- src/ndarray_backend_cuda.cu\n",
        "\n",
        "\n",
        "Optional\n",
        "- CMakeLists.txt: this is used to setup the build and likely you do not need to tweak it.\n",
        "\n",
        "\n",
        "\n",
        "\n",
        "\n"
      ]
    },
    {
      "cell_type": "markdown",
      "metadata": {
        "id": "uEpPbwQKkSkZ"
      },
      "source": [
        "## NDArray Data Structure\n",
        "\n",
        "Open up `python/needle/backend_ndarray/ndarray.py`.\n",
        "\n",
        "An NDArray contains the following fields:\n",
        "- handle: The backend handle that build a flat array which stores the data.\n",
        "- shape: The shape of the NDArray\n",
        "- strides: The strides that shows how do we access multi-dimensional elements\n",
        "- offset: The offset of the first element.\n",
        "- device: The backend device that backs the computation\n",
        "\n",
        "\n",
        "\n",
        "\n"
      ]
    },
    {
      "cell_type": "markdown",
      "metadata": {
        "id": "875DgxFFACqb"
      },
      "source": [
        "## Transformation as Strided Computation\n",
        "\n",
        "We can leverage the strides and offset to perform transform/slicing with zero copy.\n",
        "\n",
        "- Broadcast: insert strides that equals 0\n",
        "- Tranpose: swap the strides\n",
        "- Slice: change the offset and shape\n",
        "\n",
        "For most of the computations, however, we will call `array.compact()` first to get a contiguous and aligned memory before running the computation."
      ]
    },
    {
      "cell_type": "code",
      "execution_count": null,
      "metadata": {
        "id": "I49fcoiyWYLt"
      },
      "outputs": [],
      "source": [
        "import numpy as np\n",
        "x = nd.NDArray([0,1,2,3,4,5], device=nd.cpu_numpy())"
      ]
    },
    {
      "cell_type": "code",
      "execution_count": null,
      "metadata": {
        "colab": {
          "base_uri": "https://localhost:8080/"
        },
        "id": "8H3F_ST1Wcvx",
        "outputId": "f04724fb-56c6-4b16-9f72-76d10014104c"
      },
      "outputs": [],
      "source": [
        "x.numpy()"
      ]
    },
    {
      "cell_type": "code",
      "execution_count": null,
      "metadata": {
        "colab": {
          "base_uri": "https://localhost:8080/"
        },
        "id": "CXZavfGnghB1",
        "outputId": "3f53317b-96b0-459e-fece-3becee718bfb"
      },
      "outputs": [],
      "source": [
        "z = nd.NDArray.make(shape=(2, 3),\n",
        "                strides=(3, 1),\n",
        "                device=x.device,\n",
        "                handle=x._handle,\n",
        "                offset=0)\n",
        "z"
      ]
    },
    {
      "cell_type": "code",
      "execution_count": null,
      "metadata": {
        "id": "OyENEwN2i4dg"
      },
      "outputs": [],
      "source": []
    },
    {
      "cell_type": "code",
      "execution_count": null,
      "metadata": {
        "colab": {
          "base_uri": "https://localhost:8080/"
        },
        "id": "xxoqPaTUghMe",
        "outputId": "813af112-5b8f-4e4a-a3b9-908db8f060ba"
      },
      "outputs": [],
      "source": [
        "b = nd.NDArray.make(shape=(2, 3, 4),\n",
        "                    strides=(3, 1, 0),\n",
        "                    device=z.device,\n",
        "                    handle=z._handle,\n",
        "                    offset=0)\n",
        "b"
      ]
    },
    {
      "cell_type": "code",
      "execution_count": null,
      "metadata": {
        "id": "LMruIyFbghS_"
      },
      "outputs": [],
      "source": []
    },
    {
      "cell_type": "code",
      "execution_count": null,
      "metadata": {
        "id": "VgGDKXXdghdK"
      },
      "outputs": [],
      "source": []
    },
    {
      "cell_type": "code",
      "execution_count": null,
      "metadata": {
        "colab": {
          "base_uri": "https://localhost:8080/"
        },
        "id": "N0D4mCqjWh6c",
        "outputId": "acd653e2-9e8b-4df5-c9e2-1cf4563dc01d"
      },
      "outputs": [],
      "source": [
        "y = nd.NDArray.make(shape=(3, 2, 2), strides=(2, 1, 0), device=x.device, handle=x._handle, offset=0)\n",
        "y.numpy()"
      ]
    },
    {
      "cell_type": "code",
      "execution_count": null,
      "metadata": {
        "id": "qGbICVsb6y98"
      },
      "outputs": [],
      "source": [
        "x = nd.NDArray([1, 2, 3, 4], device=nd.cpu_numpy())"
      ]
    },
    {
      "cell_type": "code",
      "execution_count": null,
      "metadata": {
        "colab": {
          "base_uri": "https://localhost:8080/"
        },
        "id": "iofcuXso64yk",
        "outputId": "dba7f35e-a89f-43d4-d3fc-dc7eff3c13ed"
      },
      "outputs": [],
      "source": [
        "x.numpy()"
      ]
    },
    {
      "cell_type": "markdown",
      "metadata": {
        "id": "oceIop5P7RHW"
      },
      "source": [
        "We can use strides and shape manipulation to create different views of the same array."
      ]
    },
    {
      "cell_type": "code",
      "execution_count": null,
      "metadata": {
        "id": "C7zCed7e7B4u"
      },
      "outputs": [],
      "source": [
        "y = nd.NDArray.make(shape=(2, 2), strides=(2, 1), device=x.device, handle=x._handle, offset=0)"
      ]
    },
    {
      "cell_type": "code",
      "execution_count": null,
      "metadata": {
        "colab": {
          "base_uri": "https://localhost:8080/"
        },
        "id": "oaEPCvR17OMf",
        "outputId": "8b4fe214-96c8-4f3e-c2f0-a545942e1b18"
      },
      "outputs": [],
      "source": [
        "y.numpy()"
      ]
    },
    {
      "cell_type": "code",
      "execution_count": null,
      "metadata": {
        "id": "5rNS5MW67XyX"
      },
      "outputs": [],
      "source": [
        "z = nd.NDArray.make(shape=(2, 1), strides=(2, 1), device=x.device, handle=x._handle, offset=1)"
      ]
    },
    {
      "cell_type": "code",
      "execution_count": null,
      "metadata": {
        "colab": {
          "base_uri": "https://localhost:8080/"
        },
        "id": "HzhpVtKB7b97",
        "outputId": "28553353-73c7-4849-9f06-6ab1ae255c3d"
      },
      "outputs": [],
      "source": [
        "z.numpy()"
      ]
    },
    {
      "cell_type": "markdown",
      "metadata": {
        "id": "5ONkZbUuj6Dx"
      },
      "source": [
        "## CUDA Acceleration\n",
        "\n",
        "Now let us open `src/ndarray_cuda_backend.cu` and take a look at current implementation of GPU ops.\n"
      ]
    },
    {
      "cell_type": "markdown",
      "metadata": {
        "id": "Og8N3iuZiZ4g"
      },
      "source": [
        "## Steps for adding a new operator implementation\n",
        "- Add an implementation in `ndarray_backend_cuda.cu`, expose via pybind\n",
        "- Call into the operator in ndarray.py\n",
        "- Write up testcases"
      ]
    },
    {
      "cell_type": "code",
      "execution_count": null,
      "metadata": {
        "colab": {
          "base_uri": "https://localhost:8080/"
        },
        "id": "xV1I7I2lkOJG",
        "outputId": "f5f6ad2b-8570-490d-cde5-bbc34be411b7"
      },
      "outputs": [],
      "source": [
        "!make"
      ]
    },
    {
      "cell_type": "markdown",
      "metadata": {
        "id": "OpWxZKGb_4cJ"
      },
      "source": [
        "If we directly run the code block, we will see an error, because ewise mul is not yet implemented"
      ]
    },
    {
      "cell_type": "code",
      "execution_count": null,
      "metadata": {
        "colab": {
          "base_uri": "https://localhost:8080/",
          "height": 346
        },
        "id": "YU870vVVZkzg",
        "outputId": "2a69f4d5-a495-494b-f0a9-ef9e3ef226f2"
      },
      "outputs": [],
      "source": [
        "x = nd.NDArray([1,2,3], device=nd.cuda())\n",
        "x * 2"
      ]
    },
    {
      "cell_type": "code",
      "execution_count": null,
      "metadata": {
        "colab": {
          "base_uri": "https://localhost:8080/"
        },
        "id": "iiQFCpb-ZqX8",
        "outputId": "3ac0f010-ced5-45e7-ef08-019ac5371aa7"
      },
      "outputs": [],
      "source": [
        "!nvprof python test_mul.py"
      ]
    },
    {
      "cell_type": "markdown",
      "metadata": {
        "id": "VEtbnbvr6Wt7"
      },
      "source": [
        "## Connect back to needle Tensor\n",
        "\n",
        "So far we only played with the `backend_ndarray` subpackage, which is a self-contained ndarray implementation within needle.\n",
        "\n",
        "We can connect the ndarray back to needle as a backend."
      ]
    },
    {
      "cell_type": "code",
      "execution_count": null,
      "metadata": {
        "id": "JeThSA8zAu_v"
      },
      "outputs": [],
      "source": [
        "import needle as ndl"
      ]
    },
    {
      "cell_type": "code",
      "execution_count": null,
      "metadata": {
        "colab": {
          "base_uri": "https://localhost:8080/"
        },
        "id": "dobDH96Ql8SV",
        "outputId": "b74f9b03-86c6-4f37-f22e-d43d9a214bf2"
      },
      "outputs": [],
      "source": [
        "x = ndl.Tensor([1,2,3], device=nd.cuda(), dtype=\"float32\")\n",
        "y = ndl.Tensor([2,3,5], device=nd.cuda(), dtype=\"float32\")\n",
        "z = x + y\n",
        "z"
      ]
    },
    {
      "cell_type": "code",
      "execution_count": null,
      "metadata": {
        "colab": {
          "base_uri": "https://localhost:8080/"
        },
        "id": "ouXpj1v6g3z1",
        "outputId": "7cb789fa-4c5d-4e16-d05b-6c34dfd547d8"
      },
      "outputs": [],
      "source": [
        "z.device"
      ]
    },
    {
      "cell_type": "code",
      "execution_count": null,
      "metadata": {
        "colab": {
          "base_uri": "https://localhost:8080/"
        },
        "id": "4827VUz3bwvA",
        "outputId": "0e0857b3-bb98-47a9-f512-6212547c1930"
      },
      "outputs": [],
      "source": [
        "type(z.cached_data)"
      ]
    },
    {
      "cell_type": "markdown",
      "metadata": {
        "id": "74OUUH2REG18"
      },
      "source": [
        "## Write Standalone Python Test Files\n",
        "\n",
        "Now that we have additional c++/cuda libraries in needle, we will need to type make in order to rebuild the library. Additionally, because the colab environment caches the old library, it is inconvenient to use the ipython cells to debug the updated library.\n",
        "\n",
        "\n"
      ]
    },
    {
      "cell_type": "code",
      "execution_count": null,
      "metadata": {
        "colab": {
          "base_uri": "https://localhost:8080/"
        },
        "id": "sgLoV-_KHAM3",
        "outputId": "d15515c2-ba84-4806-b914-85f484b60cd4"
      },
      "outputs": [],
      "source": [
        "!make"
      ]
    },
    {
      "cell_type": "markdown",
      "metadata": {
        "id": "dudnLHRqoKY2"
      },
      "source": [
        "\n",
        "We recommend writing separate python files and invoke them from the command line. Create a new file `tests/mytest.py` and write your local tests. This is also a common develop practice in big projects that involves python c++ FFI."
      ]
    },
    {
      "cell_type": "code",
      "execution_count": null,
      "metadata": {
        "colab": {
          "base_uri": "https://localhost:8080/"
        },
        "id": "TubIHJrkn4Sk",
        "outputId": "a421fa96-6bc4-46d7-b06d-feae5e000d1d"
      },
      "outputs": [],
      "source": [
        "!python tests/mytest.py"
      ]
    },
    {
      "cell_type": "markdown",
      "metadata": {
        "id": "ei0UR-FYoY1-"
      },
      "source": [
        "After we have building the library, we could choose to fully restart the runtime (factory reset runtime) if you want to bring the updated change back to another colab. Note that you will need to save your code changes to the drive or a private github repo."
      ]
    }
  ],
  "metadata": {
    "accelerator": "GPU",
    "colab": {
      "authorship_tag": "ABX9TyO4pFqm3zAA4uAu9HavofY3",
      "include_colab_link": true,
      "provenance": []
    },
    "kernelspec": {
      "display_name": "Python 3",
      "name": "python3"
    },
    "language_info": {
      "codemirror_mode": {
        "name": "ipython",
        "version": 3
      },
      "file_extension": ".py",
      "mimetype": "text/x-python",
      "name": "python",
      "nbconvert_exporter": "python",
      "pygments_lexer": "ipython3",
      "version": "3.10.13"
    }
  },
  "nbformat": 4,
  "nbformat_minor": 0
}
